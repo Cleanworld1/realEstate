{
 "cells": [
  {
   "cell_type": "code",
   "execution_count": 1,
   "id": "a0496354",
   "metadata": {},
   "outputs": [
    {
     "name": "stdout",
     "output_type": "stream",
     "text": [
      "\n",
      ">>> PublicDataReader Version : 2021.4.12\n",
      "\n",
      "- Author : Wooil Jeong\n",
      "- E-mail : wooil@kakao.com\n",
      "- Github : https://github.com/WooilJeong/PublicDataReader\n",
      "- Blog : https://wooiljeong.github.io\n",
      "\n"
     ]
    }
   ],
   "source": [
    "import PublicDataReader as pdr\n",
    "print(pdr.__version__)"
   ]
  },
  {
   "cell_type": "code",
   "execution_count": 23,
   "id": "98f9d4c0",
   "metadata": {},
   "outputs": [
    {
     "name": "stdout",
     "output_type": "stream",
     "text": [
      ">>> 아파트매매 실거래자료 조회 서비스키 미등록 오류입니다.\n",
      ">>> 아파트매매 실거래 상세 자료 조회 서비스키 미등록 오류입니다.\n",
      ">>> 아파트 전월세 자료 조회 서비스키 미등록 오류입니다.\n",
      ">>> 아파트 분양권전매 신고 자료 조회 서비스키 미등록 오류입니다.\n",
      ">>> 오피스텔 매매 신고 조회 서비스키 미등록 오류입니다.\n",
      ">>> 오피스텔 전월세 신고 조회 서비스키 미등록 오류입니다.\n",
      ">>> 연립다세대 매매 실거래자료 조회 서비스키 미등록 오류입니다.\n",
      ">>> 연립다세대 전월세 실거래자료 조회 서비스키 미등록 오류입니다.\n",
      ">>> 단독/다가구 매매 실거래 조회 서비스키 미등록 오류입니다.\n",
      ">>> 단독/다가구 전월세 자료 조회 서비스키 미등록 오류입니다.\n",
      ">>> 토지 매매 신고 조회 서비스키 미등록 오류입니다.\n",
      ">>> 상업업무용 부동산 매매 신고 자료 조회 서비스키 미등록 오류입니다.\n"
     ]
    }
   ],
   "source": [
    "serviceKey=\"ZW7sQn/lro4dNI4Glzow/3oLOfWii0CB8RaskqxODpYUq9ZJxs4Ujqp/GyJv7OfIWhf5dkiGBhA3oWgZVSTdPg==\"\n",
    "molit = pdr.Transaction(serviceKey)"
   ]
  },
  {
   "cell_type": "code",
   "execution_count": null,
   "id": "c6c47845",
   "metadata": {},
   "outputs": [],
   "source": []
  }
 ],
 "metadata": {
  "kernelspec": {
   "display_name": "Python 3",
   "language": "python",
   "name": "python3"
  },
  "language_info": {
   "codemirror_mode": {
    "name": "ipython",
    "version": 3
   },
   "file_extension": ".py",
   "mimetype": "text/x-python",
   "name": "python",
   "nbconvert_exporter": "python",
   "pygments_lexer": "ipython3",
   "version": "3.9.4"
  }
 },
 "nbformat": 4,
 "nbformat_minor": 5
}
