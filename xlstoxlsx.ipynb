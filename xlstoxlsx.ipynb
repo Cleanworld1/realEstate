{
 "cells": [
  {
   "cell_type": "code",
   "execution_count": 1,
   "source": [
    "# xls to xlsx\r\n",
    "import win32com.client as win32\r\n",
    "import os"
   ],
   "outputs": [],
   "metadata": {}
  },
  {
   "cell_type": "code",
   "execution_count": 10,
   "source": [
    "path_dir = 'C:/Users/skimf/Projects/realEstate/excels'\r\n",
    "\r\n",
    "file_list = os.listdir(path_dir)\r\n",
    "print(file_list)"
   ],
   "outputs": [
    {
     "output_type": "stream",
     "name": "stdout",
     "text": [
      "['서울특별시+건축물대장+공통+새주소코드+정보.xls', '서울특별시+건축물대장+공통코드+정보.xls', '서울특별시+건축물대장+법정동+코드정보.xls', '서울특별시+건축물대장+부속지번정보.xls', '서울특별시+건축물대장+오수정화시설+정보.xls', '서울특별시+건축물대장+전유공유면적표+정보.xls', '서울특별시+건축물대장+전유부+정보.xls', '서울특별시+건축물대장+정보.xls', '서울특별시+건축물대장+지역지구구역+정보.xls', '서울특별시+건축물대장+총괄표제부+정보.xls', '서울특별시+건축물대장+층별개요정보.xls', '서울특별시+건축물대장+표제부+정보.xls', '서울특별시+건축인허가대장+공작물종류+정보.xls', '서울특별시+건축인허가대장+대수선+정보.xls', '서울특별시+건축인허가대장+대지위치+정보.xls', '서울특별시+건축인허가대장+도로+정보.xls', '서울특별시+건축인허가대장+동별개요.xls', '서울특별시+건축인허가대장+부설주차장+정보.xls', '서울특별시+건축인허가대장+오수정화시설+정보.xls', '서울특별시+건축인허가대장+전유공유면적표+정보.xls', '서울특별시+건축인허가대장+정보.xls', '서울특별시+건축인허가대장+주차장+정보.xls', '서울특별시+건축인허가대장+지역지구구역.xls', '서울특별시+건축인허가대장+층별개요.xls', '서울특별시+건축인허가대장+호별+전유공유면적표+정보.xls', '서울특별시+건축인허가대장+호별명세+정보.xls', '서울특별시+건축허가대장+건축물+석면+정보.xls', '서울특별시+건축허가대장+분양+정보.xls', '서울특별시+주택대장+공급대상+정보.xls', '서울특별시+주택대장+관계자+정보.xls', '서울특별시+주택대장+분양+정보.xls', '서울특별시+주택대장+접수대장+정보.xls', '서울특별시+주택대장+조합대지위치+정보.xls', '서울특별시+주택인허가대장+대수선+정보.xls', '서울특별시+주택인허가대장+대지위치+정보.xls', '서울특별시+주택인허가대장+동별개요+정보.xls', '서울특별시+주택인허가대장+복리분양시설+정보.xls', '서울특별시+주택인허가대장+부대시설+정보.xls', '서울특별시+주택인허가대장+부설주차장+정보.xls', '서울특별시+주택인허가대장+오수정화시설+정보.xls', '서울특별시+주택인허가대장+전유공유면적표+정보.xls', '서울특별시+주택인허가대장+정보.xls', '서울특별시+주택인허가대장+주차장+정보.xls', '서울특별시+주택인허가대장+지역지구구역+정보.xls', '서울특별시+주택인허가대장+층별개요+정보.xls', '서울특별시+주택인허가대장+형별개요+정보.xls', '서울특별시+주택인허가대장+호별명세+정보.xls', '서울특별시+폐쇄말소대장+부속지번+정보.xls', '서울특별시+폐쇄말소대장+오수정화시설+정보.xls', '서울특별시+폐쇄말소대장+전유공유면적표+정보.xls', '서울특별시+폐쇄말소대장+전유부+정보.xls', '서울특별시+폐쇄말소대장+정보.xls', '서울특별시+폐쇄말소대장+지역지구구역+정보.xls', '서울특별시+폐쇄말소대장+총괄표제부+정보.xls', '서울특별시+폐쇄말소대장+층별개요+정보.xls', '서울특별시+폐쇄말소대장+표제부+정보.xls']\n"
     ]
    }
   ],
   "metadata": {}
  },
  {
   "cell_type": "code",
   "execution_count": 12,
   "source": [
    "for filename in file_list:\r\n",
    "    excel = win32.gencache.EnsureDispatch('Excel.Application')\r\n",
    "    wb = excel.Workbooks.Open(path_dir + '/' + filename)\r\n",
    "\r\n",
    "    wb.SaveAs(filename+\"x\", FileFormat = 51) #FileFormat = 51 is for .xlsx extension\r\n",
    "    wb.Close() #FileFormat = 56 is for .xls extension\r\n",
    "    excel.Application.Quit()"
   ],
   "outputs": [],
   "metadata": {}
  },
  {
   "cell_type": "code",
   "execution_count": 9,
   "source": [],
   "outputs": [],
   "metadata": {}
  }
 ],
 "metadata": {
  "orig_nbformat": 4,
  "language_info": {
   "name": "python",
   "version": "3.8.3",
   "mimetype": "text/x-python",
   "codemirror_mode": {
    "name": "ipython",
    "version": 3
   },
   "pygments_lexer": "ipython3",
   "nbconvert_exporter": "python",
   "file_extension": ".py"
  },
  "kernelspec": {
   "name": "python3",
   "display_name": "Python 3.8.3 64-bit ('base': conda)"
  },
  "interpreter": {
   "hash": "274ff523f1fcb3d2aaa0bb11b477907b202fc19a95e49f033beced6e50319fe5"
  }
 },
 "nbformat": 4,
 "nbformat_minor": 2
}