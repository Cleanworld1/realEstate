{
 "cells": [
  {
   "cell_type": "code",
   "execution_count": 27,
   "source": [
    "from openpyxl import load_workbook\r\n",
    "from openpyxl import Workbook\r\n",
    "\r\n",
    "import os\r\n",
    "path_dir = 'C:/Users/skimf/Projects/realEstate/excels'\r\n",
    "\r\n",
    "file_list = os.listdir(path_dir)\r\n",
    "print(file_list)"
   ],
   "outputs": [
    {
     "output_type": "stream",
     "name": "stdout",
     "text": [
      "['서울특별시+건축물대장+공통+새주소코드+정보.xlsx', '서울특별시+건축물대장+공통코드+정보.xlsx', '서울특별시+건축물대장+법정동+코드정보.xlsx', '서울특별시+건축물대장+부속지번정보.xlsx', '서울특별시+건축물대장+오수정화시설+정보.xlsx', '서울특별시+건축물대장+전유공유면적표+정보.xlsx', '서울특별시+건축물대장+전유부+정보.xlsx', '서울특별시+건축물대장+정보.xlsx', '서울특별시+건축물대장+지역지구구역+정보.xlsx', '서울특별시+건축물대장+총괄표제부+정보.xlsx', '서울특별시+건축물대장+층별개요정보.xlsx', '서울특별시+건축물대장+표제부+정보.xlsx', '서울특별시+건축인허가대장+공작물종류+정보.xlsx', '서울특별시+건축인허가대장+대수선+정보.xlsx', '서울특별시+건축인허가대장+대지위치+정보.xlsx', '서울특별시+건축인허가대장+도로+정보.xlsx', '서울특별시+건축인허가대장+동별개요.xlsx', '서울특별시+건축인허가대장+부설주차장+정보.xlsx', '서울특별시+건축인허가대장+오수정화시설+정보.xlsx', '서울특별시+건축인허가대장+전유공유면적표+정보.xlsx', '서울특별시+건축인허가대장+정보.xlsx', '서울특별시+건축인허가대장+주차장+정보.xlsx', '서울특별시+건축인허가대장+지역지구구역.xlsx', '서울특별시+건축인허가대장+층별개요.xlsx', '서울특별시+건축인허가대장+호별+전유공유면적표+정보.xlsx', '서울특별시+건축인허가대장+호별명세+정보.xlsx', '서울특별시+건축허가대장+건축물+석면+정보.xlsx', '서울특별시+건축허가대장+분양+정보.xlsx', '서울특별시+주택대장+공급대상+정보.xlsx', '서울특별시+주택대장+관계자+정보.xlsx', '서울특별시+주택대장+분양+정보.xlsx', '서울특별시+주택대장+접수대장+정보.xlsx', '서울특별시+주택대장+조합대지위치+정보.xlsx', '서울특별시+주택인허가대장+대수선+정보.xlsx', '서울특별시+주택인허가대장+대지위치+정보.xlsx', '서울특별시+주택인허가대장+동별개요+정보.xlsx', '서울특별시+주택인허가대장+복리분양시설+정보.xlsx', '서울특별시+주택인허가대장+부대시설+정보.xlsx', '서울특별시+주택인허가대장+부설주차장+정보.xlsx', '서울특별시+주택인허가대장+오수정화시설+정보.xlsx', '서울특별시+주택인허가대장+전유공유면적표+정보.xlsx', '서울특별시+주택인허가대장+주차장+정보.xlsx', '서울특별시+주택인허가대장+지역지구구역+정보.xlsx', '서울특별시+주택인허가대장+층별개요+정보.xlsx', '서울특별시+주택인허가대장+형별개요+정보.xlsx', '서울특별시+주택인허가대장+호별명세+정보.xlsx', '서울특별시+폐쇄말소대장+부속지번+정보.xlsx', '서울특별시+폐쇄말소대장+오수정화시설+정보.xlsx', '서울특별시+폐쇄말소대장+전유공유면적표+정보.xlsx', '서울특별시+폐쇄말소대장+전유부+정보.xlsx', '서울특별시+폐쇄말소대장+정보.xlsx', '서울특별시+폐쇄말소대장+지역지구구역+정보.xlsx', '서울특별시+폐쇄말소대장+총괄표제부+정보.xlsx', '서울특별시+폐쇄말소대장+층별개요+정보.xlsx', '서울특별시+폐쇄말소대장+표제부+정보.xlsx']\n"
     ]
    }
   ],
   "metadata": {}
  },
  {
   "cell_type": "code",
   "execution_count": 28,
   "source": [
    "for filename in file_list:\r\n",
    "    wb = load_workbook(path_dir + '/' + filename)\r\n",
    "    ws = wb.active\r\n",
    "    \r\n",
    "    for sheet in wb.worksheets:\r\n",
    "        for row in sheet.iter_rows():\r\n",
    "            for entry in row:\r\n",
    "                try:\r\n",
    "                    if '샘플URL' in entry.value:\r\n",
    "                        deleterows = int(str(row[0])[-3:-1])\r\n",
    "                        break\r\n",
    "                except (AttributeError, TypeError):\r\n",
    "                    continue\r\n",
    "    ws.delete_rows(deleterows-1, 200) #두번째 행(B행) 삭제\r\n",
    "    wb.save('C:/Users/skimf/Projects/realEstate/translated/' + filename)\r\n",
    "\r\n"
   ],
   "outputs": [],
   "metadata": {}
  },
  {
   "cell_type": "code",
   "execution_count": 29,
   "source": [
    "path_dir = 'C:/Users/skimf/Projects/realEstate/translated'\r\n",
    "for filename in file_list:\r\n",
    "    wb = load_workbook(path_dir + '/' + filename)\r\n",
    "    ws = wb.active\r\n",
    "\r\n",
    "    for i in ws.merged_cells:\r\n",
    "        ws.unmerge_cells(str(i))\r\n",
    "\r\n",
    "    for sheet in wb.worksheets:\r\n",
    "        for row in sheet.iter_rows():\r\n",
    "            for entry in row:\r\n",
    "                try:\r\n",
    "                    if '출력값' in entry.value:\r\n",
    "                        deleterows = int(str(row[0])[-3:-1])\r\n",
    "                        break\r\n",
    "                except (AttributeError, TypeError):\r\n",
    "                    continue\r\n",
    "    ws.delete_rows(1, deleterows) #두번째 행(B행) 삭제\r\n",
    "    wb.save(path_dir + '/' + filename)"
   ],
   "outputs": [],
   "metadata": {}
  }
 ],
 "metadata": {
  "orig_nbformat": 4,
  "language_info": {
   "name": "python",
   "version": "3.8.3",
   "mimetype": "text/x-python",
   "codemirror_mode": {
    "name": "ipython",
    "version": 3
   },
   "pygments_lexer": "ipython3",
   "nbconvert_exporter": "python",
   "file_extension": ".py"
  },
  "kernelspec": {
   "name": "python3",
   "display_name": "Python 3.8.3 64-bit ('base': conda)"
  },
  "interpreter": {
   "hash": "274ff523f1fcb3d2aaa0bb11b477907b202fc19a95e49f033beced6e50319fe5"
  }
 },
 "nbformat": 4,
 "nbformat_minor": 2
}