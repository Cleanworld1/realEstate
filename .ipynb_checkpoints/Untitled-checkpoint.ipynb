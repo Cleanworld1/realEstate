{
 "cells": [
  {
   "cell_type": "code",
   "execution_count": 1,
   "id": "76fe93cf",
   "metadata": {},
   "outputs": [
    {
     "name": "stdout",
     "output_type": "stream",
     "text": [
      "\n",
      ">>> PublicDataReader Version : 2021.4.12\n",
      "\n",
      "- Author : Wooil Jeong\n",
      "- E-mail : wooil@kakao.com\n",
      "- Github : https://github.com/WooilJeong/PublicDataReader\n",
      "- Blog : https://wooiljeong.github.io\n",
      "\n"
     ]
    }
   ],
   "source": [
    "import PublicDataReader as pdr\n",
    "print(pdr.__version__)"
   ]
  },
  {
   "cell_type": "code",
   "execution_count": null,
   "id": "54344ae0",
   "metadata": {},
   "outputs": [],
   "source": [
    "serviceKey=\"VTGiEFXsK31q9qvmyfbXPe1qwfvguH%2FlYBbnkcFzOhQzlYkDx%2Ffp%2FU8K6PTeEJ%2BZqMEH36yGVAx%2F4rlQmJlcTA%3D%3D\"\n"
   ]
  }
 ],
 "metadata": {
  "kernelspec": {
   "display_name": "Python 3",
   "language": "python",
   "name": "python3"
  },
  "language_info": {
   "codemirror_mode": {
    "name": "ipython",
    "version": 3
   },
   "file_extension": ".py",
   "mimetype": "text/x-python",
   "name": "python",
   "nbconvert_exporter": "python",
   "pygments_lexer": "ipython3",
   "version": "3.9.4"
  }
 },
 "nbformat": 4,
 "nbformat_minor": 5
}
